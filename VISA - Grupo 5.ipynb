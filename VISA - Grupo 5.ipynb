{
 "cells": [
  {
   "cell_type": "code",
   "execution_count": 3,
   "id": "1cb62115",
   "metadata": {},
   "outputs": [],
   "source": [
    "import pandas as pd"
   ]
  },
  {
   "cell_type": "code",
   "execution_count": 5,
   "id": "eecb53a9",
   "metadata": {},
   "outputs": [],
   "source": [
    "root_path = './dataset/'"
   ]
  },
  {
   "cell_type": "code",
   "execution_count": 7,
   "id": "864a5edf",
   "metadata": {},
   "outputs": [],
   "source": [
    "comportamiento_df = pd.read_csv(f'{root_path}comportamiento_tarjetasvisa.csv', sep = ',')"
   ]
  },
  {
   "cell_type": "code",
   "execution_count": 9,
   "id": "2ff6c858",
   "metadata": {},
   "outputs": [],
   "source": [
    "informacion_df = pd.read_csv(f'{root_path}informacion_adicional_tarjetas.csv', sep = ',')"
   ]
  },
  {
   "cell_type": "code",
   "execution_count": 11,
   "id": "6b5a8368-530d-4652-b6e6-615e5b6b5125",
   "metadata": {},
   "outputs": [
    {
     "data": {
      "text/plain": [
       "45985"
      ]
     },
     "execution_count": 11,
     "metadata": {},
     "output_type": "execute_result"
    }
   ],
   "source": [
    "comportamiento_df['ID_CLIENTE'].value_counts().shape[0]"
   ]
  },
  {
   "cell_type": "code",
   "execution_count": 13,
   "id": "e49b8425-2711-447c-b333-276545a525de",
   "metadata": {},
   "outputs": [
    {
     "data": {
      "text/html": [
       "<div>\n",
       "<style scoped>\n",
       "    .dataframe tbody tr th:only-of-type {\n",
       "        vertical-align: middle;\n",
       "    }\n",
       "\n",
       "    .dataframe tbody tr th {\n",
       "        vertical-align: top;\n",
       "    }\n",
       "\n",
       "    .dataframe thead th {\n",
       "        text-align: right;\n",
       "    }\n",
       "</style>\n",
       "<table border=\"1\" class=\"dataframe\">\n",
       "  <thead>\n",
       "    <tr style=\"text-align: right;\">\n",
       "      <th></th>\n",
       "      <th>ID_CLIENTE</th>\n",
       "      <th>MESES</th>\n",
       "      <th>DIAS_VENCIDOS</th>\n",
       "    </tr>\n",
       "  </thead>\n",
       "  <tbody>\n",
       "    <tr>\n",
       "      <th>0</th>\n",
       "      <td>5001711</td>\n",
       "      <td>0</td>\n",
       "      <td>NaN</td>\n",
       "    </tr>\n",
       "    <tr>\n",
       "      <th>1</th>\n",
       "      <td>5001711</td>\n",
       "      <td>-1</td>\n",
       "      <td>11.0</td>\n",
       "    </tr>\n",
       "    <tr>\n",
       "      <th>2</th>\n",
       "      <td>5001711</td>\n",
       "      <td>-2</td>\n",
       "      <td>16.0</td>\n",
       "    </tr>\n",
       "    <tr>\n",
       "      <th>3</th>\n",
       "      <td>5001711</td>\n",
       "      <td>-3</td>\n",
       "      <td>16.0</td>\n",
       "    </tr>\n",
       "    <tr>\n",
       "      <th>4</th>\n",
       "      <td>5001712</td>\n",
       "      <td>0</td>\n",
       "      <td>0.0</td>\n",
       "    </tr>\n",
       "    <tr>\n",
       "      <th>...</th>\n",
       "      <td>...</td>\n",
       "      <td>...</td>\n",
       "      <td>...</td>\n",
       "    </tr>\n",
       "    <tr>\n",
       "      <th>1048570</th>\n",
       "      <td>5150487</td>\n",
       "      <td>-25</td>\n",
       "      <td>0.0</td>\n",
       "    </tr>\n",
       "    <tr>\n",
       "      <th>1048571</th>\n",
       "      <td>5150487</td>\n",
       "      <td>-26</td>\n",
       "      <td>0.0</td>\n",
       "    </tr>\n",
       "    <tr>\n",
       "      <th>1048572</th>\n",
       "      <td>5150487</td>\n",
       "      <td>-27</td>\n",
       "      <td>0.0</td>\n",
       "    </tr>\n",
       "    <tr>\n",
       "      <th>1048573</th>\n",
       "      <td>5150487</td>\n",
       "      <td>-28</td>\n",
       "      <td>0.0</td>\n",
       "    </tr>\n",
       "    <tr>\n",
       "      <th>1048574</th>\n",
       "      <td>5150487</td>\n",
       "      <td>-29</td>\n",
       "      <td>0.0</td>\n",
       "    </tr>\n",
       "  </tbody>\n",
       "</table>\n",
       "<p>1048575 rows × 3 columns</p>\n",
       "</div>"
      ],
      "text/plain": [
       "         ID_CLIENTE  MESES  DIAS_VENCIDOS\n",
       "0           5001711      0            NaN\n",
       "1           5001711     -1           11.0\n",
       "2           5001711     -2           16.0\n",
       "3           5001711     -3           16.0\n",
       "4           5001712      0            0.0\n",
       "...             ...    ...            ...\n",
       "1048570     5150487    -25            0.0\n",
       "1048571     5150487    -26            0.0\n",
       "1048572     5150487    -27            0.0\n",
       "1048573     5150487    -28            0.0\n",
       "1048574     5150487    -29            0.0\n",
       "\n",
       "[1048575 rows x 3 columns]"
      ]
     },
     "execution_count": 13,
     "metadata": {},
     "output_type": "execute_result"
    }
   ],
   "source": [
    "comportamiento_df.drop_duplicates()\n",
    "comportamiento_df"
   ]
  },
  {
   "cell_type": "code",
   "execution_count": 15,
   "id": "3aa47776-d858-47f2-bac0-b003cb826bdb",
   "metadata": {},
   "outputs": [
    {
     "data": {
      "text/plain": [
       "ID_CLIENTE            0\n",
       "MESES                 0\n",
       "DIAS_VENCIDOS    209230\n",
       "dtype: int64"
      ]
     },
     "execution_count": 15,
     "metadata": {},
     "output_type": "execute_result"
    }
   ],
   "source": [
    "comportamiento_df.isnull().sum()"
   ]
  },
  {
   "cell_type": "code",
   "execution_count": null,
   "id": "ec44effa-5a2f-4daa-8bc4-31b7d36a648c",
   "metadata": {},
   "outputs": [],
   "source": [
    "#20% de las observaciones son nulas en columna DIAS_VENCIDOS"
   ]
  },
  {
   "cell_type": "code",
   "execution_count": 41,
   "id": "ed360e2c-a301-4c6f-9595-60c994541c5d",
   "metadata": {},
   "outputs": [
    {
     "data": {
      "text/html": [
       "<div>\n",
       "<style scoped>\n",
       "    .dataframe tbody tr th:only-of-type {\n",
       "        vertical-align: middle;\n",
       "    }\n",
       "\n",
       "    .dataframe tbody tr th {\n",
       "        vertical-align: top;\n",
       "    }\n",
       "\n",
       "    .dataframe thead th {\n",
       "        text-align: right;\n",
       "    }\n",
       "</style>\n",
       "<table border=\"1\" class=\"dataframe\">\n",
       "  <thead>\n",
       "    <tr style=\"text-align: right;\">\n",
       "      <th></th>\n",
       "      <th></th>\n",
       "      <th>DIAS_VENCIDOS</th>\n",
       "    </tr>\n",
       "    <tr>\n",
       "      <th>ID_CLIENTE</th>\n",
       "      <th>MESES</th>\n",
       "      <th></th>\n",
       "    </tr>\n",
       "  </thead>\n",
       "  <tbody>\n",
       "    <tr>\n",
       "      <th rowspan=\"4\" valign=\"top\">5001711</th>\n",
       "      <th>-3</th>\n",
       "      <td>16.0</td>\n",
       "    </tr>\n",
       "    <tr>\n",
       "      <th>-2</th>\n",
       "      <td>16.0</td>\n",
       "    </tr>\n",
       "    <tr>\n",
       "      <th>-1</th>\n",
       "      <td>11.0</td>\n",
       "    </tr>\n",
       "    <tr>\n",
       "      <th>0</th>\n",
       "      <td>NaN</td>\n",
       "    </tr>\n",
       "    <tr>\n",
       "      <th>5001712</th>\n",
       "      <th>-18</th>\n",
       "      <td>17.0</td>\n",
       "    </tr>\n",
       "    <tr>\n",
       "      <th>...</th>\n",
       "      <th>...</th>\n",
       "      <td>...</td>\n",
       "    </tr>\n",
       "    <tr>\n",
       "      <th rowspan=\"5\" valign=\"top\">5150487</th>\n",
       "      <th>-4</th>\n",
       "      <td>0.0</td>\n",
       "    </tr>\n",
       "    <tr>\n",
       "      <th>-3</th>\n",
       "      <td>0.0</td>\n",
       "    </tr>\n",
       "    <tr>\n",
       "      <th>-2</th>\n",
       "      <td>0.0</td>\n",
       "    </tr>\n",
       "    <tr>\n",
       "      <th>-1</th>\n",
       "      <td>0.0</td>\n",
       "    </tr>\n",
       "    <tr>\n",
       "      <th>0</th>\n",
       "      <td>0.0</td>\n",
       "    </tr>\n",
       "  </tbody>\n",
       "</table>\n",
       "<p>1048575 rows × 1 columns</p>\n",
       "</div>"
      ],
      "text/plain": [
       "                  DIAS_VENCIDOS\n",
       "ID_CLIENTE MESES               \n",
       "5001711    -3              16.0\n",
       "           -2              16.0\n",
       "           -1              11.0\n",
       "            0               NaN\n",
       "5001712    -18             17.0\n",
       "...                         ...\n",
       "5150487    -4               0.0\n",
       "           -3               0.0\n",
       "           -2               0.0\n",
       "           -1               0.0\n",
       "            0               0.0\n",
       "\n",
       "[1048575 rows x 1 columns]"
      ]
     },
     "execution_count": 41,
     "metadata": {},
     "output_type": "execute_result"
    }
   ],
   "source": [
    "grupo_df = comportamiento_df.groupby([\"ID_CLIENTE\",\"MESES\"]).max()\n",
    "grupo"
   ]
  },
  {
   "cell_type": "code",
   "execution_count": 17,
   "id": "da7f0cf5-b28a-42a4-9af3-ac34dd1ff629",
   "metadata": {},
   "outputs": [
    {
     "data": {
      "text/plain": [
       "ID_CLIENTE\n",
       "5059942    61\n",
       "5005201    61\n",
       "5002806    61\n",
       "5105565    61\n",
       "5017058    61\n",
       "           ..\n",
       "5047681     1\n",
       "5021959     1\n",
       "5125464     1\n",
       "5092092     1\n",
       "5137027     1\n",
       "Name: count, Length: 25005, dtype: int64"
      ]
     },
     "execution_count": 17,
     "metadata": {},
     "output_type": "execute_result"
    }
   ],
   "source": [
    "filtro_nulos = comportamiento_df.groupby('ID_CLIENTE').filter(lambda x:x['DIAS_VENCIDOS'].isnull().any())\n",
    "filtro_nulos['ID_CLIENTE'].value_counts()"
   ]
  },
  {
   "cell_type": "code",
   "execution_count": 19,
   "id": "294476bd-ed38-405d-a74e-808a02530291",
   "metadata": {},
   "outputs": [
    {
     "data": {
      "text/plain": [
       "ID_CLIENTE\n",
       "5016769    61\n",
       "5002806    61\n",
       "5118192    61\n",
       "5145767    61\n",
       "5078567    61\n",
       "           ..\n",
       "5028795     1\n",
       "5148442     1\n",
       "5053900     1\n",
       "5046332     1\n",
       "5079047     1\n",
       "Name: count, Length: 45985, dtype: int64"
      ]
     },
     "execution_count": 19,
     "metadata": {},
     "output_type": "execute_result"
    }
   ],
   "source": [
    "comportamiento_df['ID_CLIENTE'].value_counts()"
   ]
  },
  {
   "cell_type": "code",
   "execution_count": null,
   "id": "0e8004c2-40ad-4664-8fe5-6a114c138f08",
   "metadata": {},
   "outputs": [],
   "source": [
    "# De un total de 45,985 clientes con comportamiento del manejo de tarjeta, 25,005 clientes tienen al menos un campo nulo en dias vencidos."
   ]
  },
  {
   "cell_type": "code",
   "execution_count": null,
   "id": "aeb9162f-369f-4c6d-8435-072b3dec6037",
   "metadata": {},
   "outputs": [],
   "source": [
    "## Se consideran todas las observaciones para definir el tipo de pagador toda vez que podemos asegurar un mal comportamiento con información cierta."
   ]
  },
  {
   "cell_type": "code",
   "execution_count": null,
   "id": "f8b285dc-01cf-47f5-9861-3eea042fa77e",
   "metadata": {},
   "outputs": [],
   "source": [
    "## Score de comportamiento:\n",
    "Mayor que 25 y menor igual que 30, se puntúa el comportamiento con 0.25.\n",
    "Mayor que 30, se puntúa con 1."
   ]
  },
  {
   "cell_type": "code",
   "execution_count": 21,
   "id": "e3d4f46d-d99d-4973-b901-79522d013a54",
   "metadata": {},
   "outputs": [],
   "source": [
    "# funcion para score comportamiento\n",
    "def score_comportamiento(dias_vencidos):\n",
    "    if dias_vencidos > 25 and dias_vencidos <= 30:\n",
    "        return 0.25\n",
    "    elif dias_vencidos > 30:\n",
    "        return 1\n",
    "    else:\n",
    "        return 0"
   ]
  },
  {
   "cell_type": "code",
   "execution_count": 23,
   "id": "6e5f4291-1bd9-45ee-b733-1dfc4510d1a8",
   "metadata": {},
   "outputs": [
    {
     "data": {
      "text/html": [
       "<div>\n",
       "<style scoped>\n",
       "    .dataframe tbody tr th:only-of-type {\n",
       "        vertical-align: middle;\n",
       "    }\n",
       "\n",
       "    .dataframe tbody tr th {\n",
       "        vertical-align: top;\n",
       "    }\n",
       "\n",
       "    .dataframe thead th {\n",
       "        text-align: right;\n",
       "    }\n",
       "</style>\n",
       "<table border=\"1\" class=\"dataframe\">\n",
       "  <thead>\n",
       "    <tr style=\"text-align: right;\">\n",
       "      <th></th>\n",
       "      <th>ID_CLIENTE</th>\n",
       "      <th>MESES</th>\n",
       "      <th>DIAS_VENCIDOS</th>\n",
       "      <th>SCORE</th>\n",
       "      <th>MESES_ANTIGUEDAD</th>\n",
       "    </tr>\n",
       "  </thead>\n",
       "  <tbody>\n",
       "    <tr>\n",
       "      <th>0</th>\n",
       "      <td>5001711</td>\n",
       "      <td>0</td>\n",
       "      <td>NaN</td>\n",
       "      <td>0.0</td>\n",
       "      <td>3</td>\n",
       "    </tr>\n",
       "    <tr>\n",
       "      <th>1</th>\n",
       "      <td>5001711</td>\n",
       "      <td>-1</td>\n",
       "      <td>11.0</td>\n",
       "      <td>0.0</td>\n",
       "      <td>3</td>\n",
       "    </tr>\n",
       "    <tr>\n",
       "      <th>2</th>\n",
       "      <td>5001711</td>\n",
       "      <td>-2</td>\n",
       "      <td>16.0</td>\n",
       "      <td>0.0</td>\n",
       "      <td>3</td>\n",
       "    </tr>\n",
       "    <tr>\n",
       "      <th>3</th>\n",
       "      <td>5001711</td>\n",
       "      <td>-3</td>\n",
       "      <td>16.0</td>\n",
       "      <td>0.0</td>\n",
       "      <td>3</td>\n",
       "    </tr>\n",
       "    <tr>\n",
       "      <th>4</th>\n",
       "      <td>5001712</td>\n",
       "      <td>0</td>\n",
       "      <td>0.0</td>\n",
       "      <td>0.0</td>\n",
       "      <td>18</td>\n",
       "    </tr>\n",
       "    <tr>\n",
       "      <th>...</th>\n",
       "      <td>...</td>\n",
       "      <td>...</td>\n",
       "      <td>...</td>\n",
       "      <td>...</td>\n",
       "      <td>...</td>\n",
       "    </tr>\n",
       "    <tr>\n",
       "      <th>1048570</th>\n",
       "      <td>5150487</td>\n",
       "      <td>-25</td>\n",
       "      <td>0.0</td>\n",
       "      <td>0.0</td>\n",
       "      <td>29</td>\n",
       "    </tr>\n",
       "    <tr>\n",
       "      <th>1048571</th>\n",
       "      <td>5150487</td>\n",
       "      <td>-26</td>\n",
       "      <td>0.0</td>\n",
       "      <td>0.0</td>\n",
       "      <td>29</td>\n",
       "    </tr>\n",
       "    <tr>\n",
       "      <th>1048572</th>\n",
       "      <td>5150487</td>\n",
       "      <td>-27</td>\n",
       "      <td>0.0</td>\n",
       "      <td>0.0</td>\n",
       "      <td>29</td>\n",
       "    </tr>\n",
       "    <tr>\n",
       "      <th>1048573</th>\n",
       "      <td>5150487</td>\n",
       "      <td>-28</td>\n",
       "      <td>0.0</td>\n",
       "      <td>0.0</td>\n",
       "      <td>29</td>\n",
       "    </tr>\n",
       "    <tr>\n",
       "      <th>1048574</th>\n",
       "      <td>5150487</td>\n",
       "      <td>-29</td>\n",
       "      <td>0.0</td>\n",
       "      <td>0.0</td>\n",
       "      <td>29</td>\n",
       "    </tr>\n",
       "  </tbody>\n",
       "</table>\n",
       "<p>1048575 rows × 5 columns</p>\n",
       "</div>"
      ],
      "text/plain": [
       "         ID_CLIENTE  MESES  DIAS_VENCIDOS  SCORE  MESES_ANTIGUEDAD\n",
       "0           5001711      0            NaN    0.0                 3\n",
       "1           5001711     -1           11.0    0.0                 3\n",
       "2           5001711     -2           16.0    0.0                 3\n",
       "3           5001711     -3           16.0    0.0                 3\n",
       "4           5001712      0            0.0    0.0                18\n",
       "...             ...    ...            ...    ...               ...\n",
       "1048570     5150487    -25            0.0    0.0                29\n",
       "1048571     5150487    -26            0.0    0.0                29\n",
       "1048572     5150487    -27            0.0    0.0                29\n",
       "1048573     5150487    -28            0.0    0.0                29\n",
       "1048574     5150487    -29            0.0    0.0                29\n",
       "\n",
       "[1048575 rows x 5 columns]"
      ]
     },
     "execution_count": 23,
     "metadata": {},
     "output_type": "execute_result"
    }
   ],
   "source": [
    "comportamiento_df['SCORE'] = comportamiento_df['DIAS_VENCIDOS'].apply(score_comportamiento)\n",
    "comportamiento_df['MESES_ANTIGUEDAD'] = (comportamiento_df.groupby('ID_CLIENTE')['MESES'].transform('min')) * (-1)\n",
    "comportamiento_df"
   ]
  },
  {
   "cell_type": "code",
   "execution_count": 25,
   "id": "83c4b447-b774-43aa-920d-0eea63e3f41e",
   "metadata": {},
   "outputs": [
    {
     "data": {
      "text/html": [
       "<div>\n",
       "<style scoped>\n",
       "    .dataframe tbody tr th:only-of-type {\n",
       "        vertical-align: middle;\n",
       "    }\n",
       "\n",
       "    .dataframe tbody tr th {\n",
       "        vertical-align: top;\n",
       "    }\n",
       "\n",
       "    .dataframe thead th {\n",
       "        text-align: right;\n",
       "    }\n",
       "</style>\n",
       "<table border=\"1\" class=\"dataframe\">\n",
       "  <thead>\n",
       "    <tr style=\"text-align: right;\">\n",
       "      <th></th>\n",
       "      <th>ID_CLIENTE</th>\n",
       "      <th>MESES_ANTIGUEDAD</th>\n",
       "      <th>SCORE</th>\n",
       "    </tr>\n",
       "  </thead>\n",
       "  <tbody>\n",
       "    <tr>\n",
       "      <th>0</th>\n",
       "      <td>5001711</td>\n",
       "      <td>3</td>\n",
       "      <td>0.00</td>\n",
       "    </tr>\n",
       "    <tr>\n",
       "      <th>1</th>\n",
       "      <td>5001712</td>\n",
       "      <td>18</td>\n",
       "      <td>0.25</td>\n",
       "    </tr>\n",
       "    <tr>\n",
       "      <th>2</th>\n",
       "      <td>5001713</td>\n",
       "      <td>21</td>\n",
       "      <td>0.00</td>\n",
       "    </tr>\n",
       "    <tr>\n",
       "      <th>3</th>\n",
       "      <td>5001714</td>\n",
       "      <td>14</td>\n",
       "      <td>0.00</td>\n",
       "    </tr>\n",
       "    <tr>\n",
       "      <th>4</th>\n",
       "      <td>5001715</td>\n",
       "      <td>59</td>\n",
       "      <td>0.00</td>\n",
       "    </tr>\n",
       "    <tr>\n",
       "      <th>...</th>\n",
       "      <td>...</td>\n",
       "      <td>...</td>\n",
       "      <td>...</td>\n",
       "    </tr>\n",
       "    <tr>\n",
       "      <th>45980</th>\n",
       "      <td>5150482</td>\n",
       "      <td>28</td>\n",
       "      <td>0.25</td>\n",
       "    </tr>\n",
       "    <tr>\n",
       "      <th>45981</th>\n",
       "      <td>5150483</td>\n",
       "      <td>17</td>\n",
       "      <td>0.00</td>\n",
       "    </tr>\n",
       "    <tr>\n",
       "      <th>45982</th>\n",
       "      <td>5150484</td>\n",
       "      <td>12</td>\n",
       "      <td>0.50</td>\n",
       "    </tr>\n",
       "    <tr>\n",
       "      <th>45983</th>\n",
       "      <td>5150485</td>\n",
       "      <td>1</td>\n",
       "      <td>0.25</td>\n",
       "    </tr>\n",
       "    <tr>\n",
       "      <th>45984</th>\n",
       "      <td>5150487</td>\n",
       "      <td>29</td>\n",
       "      <td>0.00</td>\n",
       "    </tr>\n",
       "  </tbody>\n",
       "</table>\n",
       "<p>45985 rows × 3 columns</p>\n",
       "</div>"
      ],
      "text/plain": [
       "       ID_CLIENTE  MESES_ANTIGUEDAD  SCORE\n",
       "0         5001711                 3   0.00\n",
       "1         5001712                18   0.25\n",
       "2         5001713                21   0.00\n",
       "3         5001714                14   0.00\n",
       "4         5001715                59   0.00\n",
       "...           ...               ...    ...\n",
       "45980     5150482                28   0.25\n",
       "45981     5150483                17   0.00\n",
       "45982     5150484                12   0.50\n",
       "45983     5150485                 1   0.25\n",
       "45984     5150487                29   0.00\n",
       "\n",
       "[45985 rows x 3 columns]"
      ]
     },
     "execution_count": 25,
     "metadata": {},
     "output_type": "execute_result"
    }
   ],
   "source": [
    "calificacion_df = comportamiento_df[[\"ID_CLIENTE\",\"MESES_ANTIGUEDAD\",\"SCORE\"]].groupby([\"ID_CLIENTE\",\"MESES_ANTIGUEDAD\"]).sum().reset_index()\n",
    "calificacion_df"
   ]
  },
  {
   "cell_type": "code",
   "execution_count": 27,
   "id": "4f56445a-3a97-42cb-8c0b-1d8df08c33ee",
   "metadata": {},
   "outputs": [],
   "source": [
    "# definir etiqueta de mal pagador\n",
    "def tipo_cliente(meses_antiguedad, score_total):\n",
    "    if meses_antiguedad <= 6 and score_total > 0:\n",
    "        return 'mal pagador'\n",
    "    elif meses_antiguedad > 6 and meses_antiguedad <= 12 and score_total > 0.5:\n",
    "        return 'mal pagador'\n",
    "    elif meses_antiguedad > 12 and meses_antiguedad <= 24 and score_total >= 1.5:\n",
    "        return 'mal pagador'\n",
    "    elif meses_antiguedad > 24 and meses_antiguedad <= 36 and score_total >= 2.5:\n",
    "        return 'mal pagador'\n",
    "    elif meses_antiguedad > 36 and meses_antiguedad <= 48 and score_total >= 3.5:\n",
    "        return 'mal pagador'\n",
    "    elif meses_antiguedad > 48 and meses_antiguedad <= 60 and score_total >= 4.5:\n",
    "        return 'mal pagador'\n",
    "    elif meses_antiguedad > 60 and score_total >= 5.5:\n",
    "        return 'mal pagador'\n",
    "    else:\n",
    "        return 'buen pagador'"
   ]
  },
  {
   "cell_type": "code",
   "execution_count": 29,
   "id": "81490e3c-6729-4687-a224-df738c5ccac8",
   "metadata": {},
   "outputs": [
    {
     "data": {
      "text/plain": [
       "TIPO_CLIENTE\n",
       "buen pagador    41728\n",
       "mal pagador      4257\n",
       "Name: count, dtype: int64"
      ]
     },
     "execution_count": 29,
     "metadata": {},
     "output_type": "execute_result"
    }
   ],
   "source": [
    "calificacion_df['TIPO_CLIENTE'] = calificacion_df.apply(lambda x: tipo_cliente(x['MESES_ANTIGUEDAD'], x['SCORE']), axis=1)\n",
    "calificacion_df['TIPO_CLIENTE'].value_counts()"
   ]
  }
 ],
 "metadata": {
  "kernelspec": {
   "display_name": "Python 3 (ipykernel)",
   "language": "python",
   "name": "python3"
  },
  "language_info": {
   "codemirror_mode": {
    "name": "ipython",
    "version": 3
   },
   "file_extension": ".py",
   "mimetype": "text/x-python",
   "name": "python",
   "nbconvert_exporter": "python",
   "pygments_lexer": "ipython3",
   "version": "3.11.7"
  }
 },
 "nbformat": 4,
 "nbformat_minor": 5
}
