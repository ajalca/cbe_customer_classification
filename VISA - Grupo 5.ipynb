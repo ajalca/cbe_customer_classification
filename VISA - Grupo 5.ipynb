{
 "cells": [
  {
   "cell_type": "code",
   "execution_count": null,
   "id": "1cb62115",
   "metadata": {},
   "outputs": [],
   "source": [
    "import pandas as pd\n",
    "from datetime import datetime, timedelta\n",
    "import seaborn as sns\n",
    "import matplotlib.pyplot as plt\n",
    "from statsmodels.graphics.mosaicplot import mosaic"
   ]
  },
  {
   "cell_type": "code",
   "execution_count": null,
   "id": "eecb53a9",
   "metadata": {},
   "outputs": [],
   "source": [
    "root_path = './dataset/'"
   ]
  },
  {
   "cell_type": "code",
   "execution_count": null,
   "id": "864a5edf",
   "metadata": {},
   "outputs": [],
   "source": [
    "comportamiento_df = pd.read_csv(f'{root_path}comportamiento_tarjetasvisa.csv', sep = ',')"
   ]
  },
  {
   "cell_type": "code",
   "execution_count": null,
   "id": "2ff6c858",
   "metadata": {},
   "outputs": [],
   "source": [
    "informacion_df = pd.read_csv(f'{root_path}informacion_adicional_tarjetas.csv', sep = ',')"
   ]
  },
  {
   "cell_type": "code",
   "execution_count": null,
   "id": "6b5a8368-530d-4652-b6e6-615e5b6b5125",
   "metadata": {},
   "outputs": [],
   "source": [
    "comportamiento_df['ID_CLIENTE'].value_counts().shape[0]"
   ]
  },
  {
   "cell_type": "markdown",
   "id": "63299a01",
   "metadata": {},
   "source": [
    "### Definición de mal pagador"
   ]
  },
  {
   "cell_type": "code",
   "execution_count": null,
   "id": "e49b8425-2711-447c-b333-276545a525de",
   "metadata": {},
   "outputs": [],
   "source": [
    "comportamiento_df.drop_duplicates()\n",
    "comportamiento_df"
   ]
  },
  {
   "cell_type": "code",
   "execution_count": null,
   "id": "3aa47776-d858-47f2-bac0-b003cb826bdb",
   "metadata": {},
   "outputs": [],
   "source": [
    "comportamiento_df.isnull().sum()"
   ]
  },
  {
   "cell_type": "markdown",
   "id": "3c597b7e",
   "metadata": {},
   "source": [
    "##### 20% de las observaciones son nulas en columna DIAS_VENCIDOS"
   ]
  },
  {
   "cell_type": "code",
   "execution_count": null,
   "id": "ed360e2c-a301-4c6f-9595-60c994541c5d",
   "metadata": {},
   "outputs": [],
   "source": [
    "grupo_df = comportamiento_df.groupby([\"ID_CLIENTE\",\"MESES\"]).max()\n",
    "grupo_df"
   ]
  },
  {
   "cell_type": "code",
   "execution_count": null,
   "id": "da7f0cf5-b28a-42a4-9af3-ac34dd1ff629",
   "metadata": {},
   "outputs": [],
   "source": [
    "filtro_nulos = comportamiento_df.groupby('ID_CLIENTE').filter(lambda x:x['DIAS_VENCIDOS'].isnull().any())\n",
    "filtro_nulos['ID_CLIENTE'].value_counts()"
   ]
  },
  {
   "cell_type": "code",
   "execution_count": null,
   "id": "294476bd-ed38-405d-a74e-808a02530291",
   "metadata": {},
   "outputs": [],
   "source": [
    "comportamiento_df['ID_CLIENTE'].value_counts()"
   ]
  },
  {
   "cell_type": "markdown",
   "id": "707e0ef1",
   "metadata": {},
   "source": [
    "##### De un total de 45,985 clientes con comportamiento del manejo de tarjeta, 25,005 clientes tienen al menos un campo nulo en dias vencidos."
   ]
  },
  {
   "cell_type": "markdown",
   "id": "20854767",
   "metadata": {},
   "source": [
    "##### Se consideran todas las observaciones para definir el tipo de pagador toda vez que podemos asegurar un mal comportamiento con información cierta."
   ]
  },
  {
   "cell_type": "markdown",
   "id": "8315f317",
   "metadata": {},
   "source": [
    "##### Score de comportamiento:\n",
    "Mayor que 25 y menor igual que 30, se puntúa el comportamiento con 0.25.\n",
    "Mayor que 30, se puntúa con 1."
   ]
  },
  {
   "cell_type": "code",
   "execution_count": null,
   "id": "e3d4f46d-d99d-4973-b901-79522d013a54",
   "metadata": {},
   "outputs": [],
   "source": [
    "# funcion para score comportamiento\n",
    "def score_comportamiento(dias_vencidos):\n",
    "    if dias_vencidos > 25 and dias_vencidos <= 30:\n",
    "        return 0.25\n",
    "    elif dias_vencidos > 30:\n",
    "        return 1\n",
    "    else:\n",
    "        return 0"
   ]
  },
  {
   "cell_type": "code",
   "execution_count": null,
   "id": "6e5f4291-1bd9-45ee-b733-1dfc4510d1a8",
   "metadata": {},
   "outputs": [],
   "source": [
    "comportamiento_df['SCORE'] = comportamiento_df['DIAS_VENCIDOS'].apply(score_comportamiento)\n",
    "comportamiento_df['MESES_ANTIGUEDAD'] = (comportamiento_df.groupby('ID_CLIENTE')['MESES'].transform('min')) * (-1)\n",
    "comportamiento_df"
   ]
  },
  {
   "cell_type": "code",
   "execution_count": null,
   "id": "83c4b447-b774-43aa-920d-0eea63e3f41e",
   "metadata": {},
   "outputs": [],
   "source": [
    "calificacion_df = comportamiento_df[[\"ID_CLIENTE\",\"MESES_ANTIGUEDAD\",\"SCORE\"]].groupby([\"ID_CLIENTE\",\"MESES_ANTIGUEDAD\"]).sum().reset_index()\n",
    "calificacion_df"
   ]
  },
  {
   "cell_type": "code",
   "execution_count": null,
   "id": "4f56445a-3a97-42cb-8c0b-1d8df08c33ee",
   "metadata": {},
   "outputs": [],
   "source": [
    "# definir etiqueta de mal pagador\n",
    "def tipo_cliente(meses_antiguedad, score_total):\n",
    "    if meses_antiguedad <= 6 and score_total > 0:\n",
    "        return 'mal pagador'\n",
    "    elif meses_antiguedad > 6 and meses_antiguedad <= 12 and score_total > 0.5:\n",
    "        return 'mal pagador'\n",
    "    elif meses_antiguedad > 12 and meses_antiguedad <= 24 and score_total >= 1.5:\n",
    "        return 'mal pagador'\n",
    "    elif meses_antiguedad > 24 and meses_antiguedad <= 36 and score_total >= 2.5:\n",
    "        return 'mal pagador'\n",
    "    elif meses_antiguedad > 36 and meses_antiguedad <= 48 and score_total >= 3.5:\n",
    "        return 'mal pagador'\n",
    "    elif meses_antiguedad > 48 and meses_antiguedad <= 60 and score_total >= 4.5:\n",
    "        return 'mal pagador'\n",
    "    elif meses_antiguedad > 60 and score_total >= 5.5:\n",
    "        return 'mal pagador'\n",
    "    else:\n",
    "        return 'buen pagador'"
   ]
  },
  {
   "cell_type": "code",
   "execution_count": null,
   "id": "81490e3c-6729-4687-a224-df738c5ccac8",
   "metadata": {},
   "outputs": [],
   "source": [
    "calificacion_df['TIPO_CLIENTE'] = calificacion_df.apply(lambda x: tipo_cliente(x['MESES_ANTIGUEDAD'], x['SCORE']), axis=1)\n",
    "calificacion_df['TIPO_CLIENTE'].value_counts(normalize=True)"
   ]
  },
  {
   "cell_type": "markdown",
   "id": "e7d7060e",
   "metadata": {},
   "source": [
    "### Join con información adicional del cliente"
   ]
  },
  {
   "cell_type": "code",
   "execution_count": null,
   "id": "33213174",
   "metadata": {},
   "outputs": [],
   "source": [
    "calificacion_df.isnull().sum()"
   ]
  },
  {
   "cell_type": "code",
   "execution_count": null,
   "id": "60b8394e",
   "metadata": {},
   "outputs": [],
   "source": [
    "calificacion_df.info()"
   ]
  },
  {
   "cell_type": "markdown",
   "id": "60ba407e",
   "metadata": {},
   "source": [
    "No se tiene valores nulos con el nuevo dataset con la definición de mal pagador"
   ]
  },
  {
   "cell_type": "code",
   "execution_count": null,
   "id": "66681925",
   "metadata": {},
   "outputs": [],
   "source": [
    "#Se crea un nuevo data con las dos columnas solicitadas CLIENTE_ID (ID_CLIENTE) y mal_pagador (TIPO_CLIENTE)\n",
    "definicion_df = calificacion_df[[\"ID_CLIENTE\", \"TIPO_CLIENTE\"]]\n",
    "definicion_df"
   ]
  },
  {
   "cell_type": "code",
   "execution_count": null,
   "id": "5ed38ae1",
   "metadata": {},
   "outputs": [],
   "source": [
    "#Análisis del dataset con la información de los clientes\n",
    "informacion_df.info()"
   ]
  },
  {
   "cell_type": "code",
   "execution_count": null,
   "id": "6d43b428",
   "metadata": {
    "scrolled": true
   },
   "outputs": [],
   "source": [
    "informacion_df.drop_duplicates()\n",
    "informacion_df"
   ]
  },
  {
   "cell_type": "code",
   "execution_count": null,
   "id": "f73ebe17",
   "metadata": {},
   "outputs": [],
   "source": [
    "informacion_df.isnull().sum()"
   ]
  },
  {
   "cell_type": "markdown",
   "id": "4ff70e47",
   "metadata": {},
   "source": [
    "##### El 31% de las observaciones para la información de las tarjetas es nula en la descripción de la profesión"
   ]
  },
  {
   "cell_type": "code",
   "execution_count": null,
   "id": "4f3a9765",
   "metadata": {},
   "outputs": [],
   "source": [
    "id_informacion_df = informacion_df[\"ID_CLIENTE\"].value_counts()\n",
    "id_informacion_df"
   ]
  },
  {
   "cell_type": "code",
   "execution_count": null,
   "id": "49439b87",
   "metadata": {},
   "outputs": [],
   "source": [
    "#Observando los valores repetidos\n",
    "repetido_informacion_df = id_informacion_df[id_informacion_df > 1].index\n",
    "repetido_informacion_df"
   ]
  },
  {
   "cell_type": "code",
   "execution_count": null,
   "id": "ac59c89f",
   "metadata": {},
   "outputs": [],
   "source": [
    "repetido_filtro_df = informacion_df[informacion_df['ID_CLIENTE'].isin(repetido_informacion_df)].sort_values(by=\"ID_CLIENTE\")\n",
    "repetido_filtro_df"
   ]
  },
  {
   "cell_type": "markdown",
   "id": "a996f20f",
   "metadata": {},
   "source": [
    "Se descartan los ids que tienen más de una información porque los valores cambiantes no siguen ningún patrón (MCAR)"
   ]
  },
  {
   "cell_type": "code",
   "execution_count": null,
   "id": "3f7e88a3",
   "metadata": {},
   "outputs": [],
   "source": [
    "#Obteniedo los id con información única\n",
    "filtered_informacion_df = id_informacion_df[id_informacion_df == 1].index\n",
    "filtered_informacion_df"
   ]
  },
  {
   "cell_type": "code",
   "execution_count": null,
   "id": "e49bdd09",
   "metadata": {},
   "outputs": [],
   "source": [
    "#Filtrando los ids únicos\n",
    "unicos_informacion_df = informacion_df[informacion_df['ID_CLIENTE'].isin(filtered_informacion_df)]\n",
    "unicos_informacion_df"
   ]
  },
  {
   "cell_type": "markdown",
   "id": "7322d300",
   "metadata": {},
   "source": [
    "94 registros se han descartado de la información de clientes"
   ]
  },
  {
   "cell_type": "code",
   "execution_count": null,
   "id": "4122fe45",
   "metadata": {},
   "outputs": [],
   "source": [
    "unificado_df = unicos_informacion_df.merge(definicion_df, how=\"left\", on=\"ID_CLIENTE\")\n",
    "unificado_df"
   ]
  },
  {
   "cell_type": "code",
   "execution_count": null,
   "id": "477f4195",
   "metadata": {},
   "outputs": [],
   "source": [
    "#Analizando la información unificada\n",
    "unificado_df.info()"
   ]
  },
  {
   "cell_type": "markdown",
   "id": "20c187a8",
   "metadata": {},
   "source": [
    "Hay 402006 registros lo que representa el 91 % de información nula porque los ids de clientes no estaban en la definición del tipo de cliente.\n",
    "Es un categoría necesaria para analizar el tipo de cliente se va a trabajar con clientes que si estén categorizados"
   ]
  },
  {
   "cell_type": "code",
   "execution_count": null,
   "id": "63b2971a",
   "metadata": {},
   "outputs": [],
   "source": [
    "unificado_df[unificado_df.duplicated() == True]"
   ]
  },
  {
   "cell_type": "markdown",
   "id": "e1459c66",
   "metadata": {},
   "source": [
    "No se tiene valores duplicados ya que desde el inicio se usó la función drop_duplicates para no trabajar con valores repetidos"
   ]
  },
  {
   "cell_type": "code",
   "execution_count": null,
   "id": "187b7822",
   "metadata": {},
   "outputs": [],
   "source": [
    "#Se conservan los registros que no tienen valores nulos para el tipo de cliente según la definición de mal pagador\n",
    "clientes_df = unificado_df[unificado_df[\"TIPO_CLIENTE\"].isnull() == False]\n",
    "clientes_df.info()"
   ]
  },
  {
   "cell_type": "code",
   "execution_count": null,
   "id": "e3576e58",
   "metadata": {},
   "outputs": [],
   "source": [
    "clientes_df[[\"TIPO_CLIENTE\", \"ID_CLIENTE\"]].groupby(\"TIPO_CLIENTE\").count()"
   ]
  },
  {
   "cell_type": "markdown",
   "id": "92f67c15",
   "metadata": {},
   "source": [
    "### Data quality"
   ]
  },
  {
   "cell_type": "code",
   "execution_count": null,
   "id": "230ecdb8",
   "metadata": {},
   "outputs": [],
   "source": [
    "clientes_df.isnull().sum()/clientes_df.shape[0]"
   ]
  },
  {
   "cell_type": "markdown",
   "id": "a5aaeb51",
   "metadata": {},
   "source": [
    "El 31% de la información que se ha recolectado del cliente no ha indicado su profesión."
   ]
  },
  {
   "cell_type": "code",
   "execution_count": null,
   "id": "be2fde3e",
   "metadata": {},
   "outputs": [],
   "source": [
    "segun_genero_df = clientes_df[[\"GENERO\", \"PROFESION\", \"ID_CLIENTE\"]].groupby(\"GENERO\").count()\n",
    "segun_genero_df"
   ]
  },
  {
   "cell_type": "code",
   "execution_count": null,
   "id": "35732a99",
   "metadata": {},
   "outputs": [],
   "source": [
    "segun_genero_df[\"SIN PROFESION\"] = segun_genero_df[\"ID_CLIENTE\"] - segun_genero_df[\"PROFESION\"]\n",
    "segun_genero_df[\"% SIN PROFESION\"] = (segun_genero_df[\"SIN PROFESION\"] * 100)/segun_genero_df[\"ID_CLIENTE\"]\n",
    "segun_genero_df"
   ]
  },
  {
   "cell_type": "markdown",
   "id": "20405120",
   "metadata": {},
   "source": [
    "El 36 % de mujeres no ha indicado que profesión tienen y el 21% de los hombres prefirieron no decir a que se dedican"
   ]
  },
  {
   "cell_type": "code",
   "execution_count": null,
   "id": "05a5853f",
   "metadata": {},
   "outputs": [],
   "source": [
    "def reemplazar_nulos(c):\n",
    "    if c.dtype == 'object':\n",
    "        return c.apply(lambda x: 'Desconocido' if pd.isnull(x) else x)\n",
    "    else:\n",
    "        mediana = c.median()\n",
    "        return c.apply(lambda x: mediana if pd.isnull(x) else x)"
   ]
  },
  {
   "cell_type": "code",
   "execution_count": null,
   "id": "ba62d497",
   "metadata": {},
   "outputs": [],
   "source": [
    "clientes_df = clientes_df.apply(reemplazar_nulos)"
   ]
  },
  {
   "cell_type": "code",
   "execution_count": null,
   "id": "be32a9dc",
   "metadata": {},
   "outputs": [],
   "source": [
    "clientes_df.isnull().sum()/clientes_df.shape[0]"
   ]
  },
  {
   "cell_type": "markdown",
   "id": "bd7cfe9d",
   "metadata": {},
   "source": [
    "### Feature transformation"
   ]
  },
  {
   "cell_type": "code",
   "execution_count": null,
   "id": "f32c98a3",
   "metadata": {},
   "outputs": [],
   "source": [
    "clientes_df.dtypes"
   ]
  },
  {
   "cell_type": "code",
   "execution_count": null,
   "id": "f5a12d8b",
   "metadata": {},
   "outputs": [],
   "source": [
    "clientes_df.describe()"
   ]
  },
  {
   "cell_type": "code",
   "execution_count": null,
   "id": "20f4dd96",
   "metadata": {},
   "outputs": [],
   "source": [
    "fecha_fijada = datetime(2024, 6, 29).date()\n",
    "clientes_df['FECHA_NACIMIENTO'] = clientes_df['DIAS_DESDE_NACIMIENTO'].apply(lambda x: fecha_fijada + timedelta(days=x))\n",
    "clientes_df['ANIO_NACIMIENTO'] = clientes_df['FECHA_NACIMIENTO'].apply(lambda x: x.year)\n",
    "clientes_df"
   ]
  },
  {
   "cell_type": "code",
   "execution_count": null,
   "id": "45f7b763-f894-4fd3-8fdd-24235e065824",
   "metadata": {},
   "outputs": [],
   "source": [
    "#funcion para etiqueta generacional\n",
    "def generacion(anio_nacimiento):\n",
    "    if anio_nacimiento >= 1997:\n",
    "        return 'Generación Z'\n",
    "    elif 1981 <= anio_nacimiento < 1997:\n",
    "        return 'Millennials'\n",
    "    elif 1965 <= anio_nacimiento < 1981:\n",
    "        return 'Generación X'\n",
    "    elif 1946 <= anio_nacimiento < 1965:\n",
    "        return 'Baby Boomers'\n",
    "    else:\n",
    "        return 'Generación Silenciosa'\n",
    "clientes_df['GENERACION'] = clientes_df['ANIO_NACIMIENTO'].apply(generacion)"
   ]
  },
  {
   "cell_type": "code",
   "execution_count": null,
   "id": "ecdb491d-c489-4a31-be98-d414674d855d",
   "metadata": {},
   "outputs": [],
   "source": [
    "clientes_df['GENERACION'].value_counts()"
   ]
  },
  {
   "cell_type": "markdown",
   "id": "6b92f162",
   "metadata": {},
   "source": [
    "### Análisis descriptivo"
   ]
  },
  {
   "cell_type": "code",
   "execution_count": null,
   "id": "c224c8c5",
   "metadata": {},
   "outputs": [],
   "source": [
    "#Descripción general de todas las variables\n",
    "clientes_df.describe()"
   ]
  },
  {
   "cell_type": "markdown",
   "id": "2cbfab4c",
   "metadata": {},
   "source": [
    "¿Cuál es la profesión de más o menos riesgo? ¿Los ingresos según la profesión tienen un impacto en el tipo de cliente?"
   ]
  },
  {
   "cell_type": "markdown",
   "id": "6ce8f6ff",
   "metadata": {},
   "source": [
    "Medidas de tendencia central"
   ]
  },
  {
   "cell_type": "code",
   "execution_count": null,
   "id": "7ddefbbc",
   "metadata": {},
   "outputs": [],
   "source": [
    "clientes_df[\"PROFESION\"].describe()"
   ]
  },
  {
   "cell_type": "code",
   "execution_count": null,
   "id": "0aca7a56",
   "metadata": {},
   "outputs": [],
   "source": [
    "proporcion_profesion = clientes_df['PROFESION'].value_counts(normalize=True)\n",
    "proporcion_profesion"
   ]
  },
  {
   "cell_type": "code",
   "execution_count": null,
   "id": "f0a58056",
   "metadata": {},
   "outputs": [],
   "source": [
    "tabla_contingencia = pd.crosstab(clientes_df['PROFESION'], clientes_df['TIPO_CLIENTE'], normalize=True)\n",
    "tabla_ordenada_filas = tabla_contingencia.sort_values(by='buen pagador', ascending=False)\n",
    "tabla_ordenada_filas"
   ]
  },
  {
   "cell_type": "code",
   "execution_count": null,
   "id": "cd442255",
   "metadata": {},
   "outputs": [],
   "source": [
    "# Gráfico de barras para la columna 'Profesion'\n",
    "sns.countplot(x='PROFESION', data=clientes_df)\n",
    "plt.title('Frecuencia de Profesion')\n",
    "plt.xlabel('Profesión')\n",
    "plt.ylabel('Frecuencia')\n",
    "plt.xticks(rotation=45)\n",
    "plt.tight_layout()\n",
    "plt.show()"
   ]
  },
  {
   "cell_type": "code",
   "execution_count": null,
   "id": "4023d50b",
   "metadata": {},
   "outputs": [],
   "source": [
    "plt.figure(figsize=(10, 6))\n",
    "sns.countplot(x='PROFESION', hue='TIPO_CLIENTE', data=clientes_df)\n",
    "plt.title('Distribución de profesión según el tipo de cliente')\n",
    "plt.xlabel('Profesión')\n",
    "plt.ylabel('Frecuencia')\n",
    "plt.xticks(rotation=45)\n",
    "plt.tight_layout()\n",
    "plt.show()"
   ]
  },
  {
   "cell_type": "code",
   "execution_count": null,
   "id": "099b6a98",
   "metadata": {},
   "outputs": [],
   "source": [
    "tabla_contingencia.plot(kind='bar', stacked=True)\n",
    "plt.title('Distribución de profesión según el tipo de cliente')\n",
    "plt.xlabel('Profesión')\n",
    "plt.ylabel('Frecuencia')\n",
    "plt.legend(title='Tipo de cliente')\n",
    "plt.xticks(rotation=90)\n",
    "plt.tight_layout()\n",
    "plt.show()"
   ]
  },
  {
   "cell_type": "code",
   "execution_count": null,
   "id": "8054f579",
   "metadata": {},
   "outputs": [],
   "source": [
    "clientes_df[\"INGRESO_MENSUAL\"] = clientes_df['INGRESO_ANUAL']/12"
   ]
  },
  {
   "cell_type": "code",
   "execution_count": null,
   "id": "badff56a",
   "metadata": {},
   "outputs": [],
   "source": [
    "tabla_contingencia_pit = pd.crosstab([clientes_df['PROFESION'], clientes_df['TIPO_CLIENTE']], clientes_df['INGRESO_MENSUAL'], normalize=True)\n",
    "tabla_contingencia_pit"
   ]
  },
  {
   "cell_type": "code",
   "execution_count": null,
   "id": "d73e2f7c",
   "metadata": {},
   "outputs": [],
   "source": [
    "tabla_contingencia_pit_c = pd.crosstab([clientes_df['PROFESION'], clientes_df['INGRESO_MENSUAL']], clientes_df['TIPO_CLIENTE'], normalize=True)\n",
    "tabla_contingencia_pit_c"
   ]
  },
  {
   "cell_type": "markdown",
   "id": "c9eca029",
   "metadata": {},
   "source": [
    "¿El estado civil y el número de hijos de un cliente son relevantes para definir al cliente?"
   ]
  },
  {
   "cell_type": "code",
   "execution_count": null,
   "id": "978d461a",
   "metadata": {},
   "outputs": [],
   "source": [
    "clientes_df[\"ESTADO_CIVIL\"].describe()"
   ]
  },
  {
   "cell_type": "code",
   "execution_count": null,
   "id": "a977ef87",
   "metadata": {},
   "outputs": [],
   "source": [
    "clientes_df[\"N_NINOS\"].describe()"
   ]
  },
  {
   "cell_type": "code",
   "execution_count": null,
   "id": "6b34994d",
   "metadata": {},
   "outputs": [],
   "source": [
    "proporcion_estado_civil = clientes_df['ESTADO_CIVIL'].value_counts(normalize=True)\n",
    "proporcion_estado_civil"
   ]
  },
  {
   "cell_type": "code",
   "execution_count": null,
   "id": "43d5db2d",
   "metadata": {},
   "outputs": [],
   "source": [
    "proporcion_n_ninos = clientes_df['N_NINOS'].value_counts(normalize=True)\n",
    "proporcion_n_ninos"
   ]
  },
  {
   "cell_type": "code",
   "execution_count": null,
   "id": "ca5d4c3a",
   "metadata": {},
   "outputs": [],
   "source": [
    "tabla_contingencia_ec = pd.crosstab(clientes_df['ESTADO_CIVIL'], clientes_df['N_NINOS'])\n",
    "tabla_contingencia_ec"
   ]
  },
  {
   "cell_type": "code",
   "execution_count": null,
   "id": "17073a0d",
   "metadata": {},
   "outputs": [],
   "source": [
    "tabla_contingencia_ect = pd.crosstab(clientes_df['ESTADO_CIVIL'], clientes_df['TIPO_CLIENTE'])\n",
    "tabla_ordenada_filas_ect = tabla_contingencia_ect.sort_values(by='buen pagador', ascending=False)\n",
    "tabla_ordenada_filas_ect"
   ]
  },
  {
   "cell_type": "code",
   "execution_count": null,
   "id": "43180254",
   "metadata": {},
   "outputs": [],
   "source": [
    "tabla_contingencia_c = pd.crosstab([clientes_df['ESTADO_CIVIL'], clientes_df['N_NINOS']], clientes_df['TIPO_CLIENTE'], normalize=True)\n",
    "tabla_ordenada_filas_c = tabla_contingencia_c.sort_values(by='buen pagador', ascending=False)\n",
    "tabla_ordenada_filas_c"
   ]
  },
  {
   "cell_type": "code",
   "execution_count": null,
   "id": "073a0bc3",
   "metadata": {},
   "outputs": [],
   "source": [
    "# Gráfico de barras apiladas\n",
    "tabla_contingencia_c.plot(kind='bar', stacked=True)\n",
    "plt.title('Distribución del tipo de cliente según el estado civil por el número de niños')\n",
    "plt.xlabel('Estado civil y niños')\n",
    "plt.ylabel('Frecuencia')\n",
    "plt.legend(title='Tipo de cliente')\n",
    "plt.xticks(rotation=45)\n",
    "plt.tight_layout()\n",
    "plt.show()"
   ]
  },
  {
   "cell_type": "code",
   "execution_count": null,
   "id": "834c0107",
   "metadata": {},
   "outputs": [],
   "source": [
    "# Personalizar el gráfico\n",
    "# Crear el gráfico de mosaico\n",
    "plt.figure(figsize=(10, 6))\n",
    "mosaic(clientes_df, ['ESTADO_CIVIL', 'TIPO_CLIENTE', 'N_NINOS'], title='Gráfico de Mosaico de Estado civil, ninos y tipo cliente')\n",
    "plt.show()"
   ]
  },
  {
   "cell_type": "markdown",
   "id": "8a5389cb",
   "metadata": {},
   "source": [
    "Distribucion y visualización"
   ]
  },
  {
   "cell_type": "code",
   "execution_count": null,
   "id": "4fbaca7c",
   "metadata": {},
   "outputs": [],
   "source": [
    "clientes_df[\"TIENE_CARRO\"].hist(bins=10, color=colors)\n",
    "plt.title(\"Histograma de carro\")\n",
    "plt.xlabel(\"carro\")\n",
    "plt.ylabel(\"Frecuencia\")\n",
    "plt.show()"
   ]
  },
  {
   "cell_type": "code",
   "execution_count": null,
   "id": "40262ef1",
   "metadata": {},
   "outputs": [],
   "source": [
    "clientes_df['TIENE_CARRO'].plot(kind='box', color=colors)\n",
    "plt.title('Boxplot de carro')\n",
    "plt.show()"
   ]
  },
  {
   "cell_type": "code",
   "execution_count": null,
   "id": "ef39dbe4",
   "metadata": {},
   "outputs": [],
   "source": [
    "generacion_df = pd.crosstab(clientes_df['GENERACION'], clientes_df[\"TIPO_CLIENTE\"], normalize=\"index\")"
   ]
  },
  {
   "cell_type": "code",
   "execution_count": null,
   "id": "5e24888d",
   "metadata": {},
   "outputs": [],
   "source": [
    "generacion_df.reindex([\"Generación Z\", \"Millennials\", \"Generación X\", \"Baby Boomers\"])"
   ]
  }
 ],
 "metadata": {
  "kernelspec": {
   "display_name": "Python 3 (ipykernel)",
   "language": "python",
   "name": "python3"
  },
  "language_info": {
   "codemirror_mode": {
    "name": "ipython",
    "version": 3
   },
   "file_extension": ".py",
   "mimetype": "text/x-python",
   "name": "python",
   "nbconvert_exporter": "python",
   "pygments_lexer": "ipython3",
   "version": "3.9.13"
  }
 },
 "nbformat": 4,
 "nbformat_minor": 5
}
