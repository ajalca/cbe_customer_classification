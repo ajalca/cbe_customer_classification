{
 "cells": [
  {
   "cell_type": "code",
   "execution_count": null,
   "id": "1cb62115",
   "metadata": {},
   "outputs": [],
   "source": [
    "import pandas as pd\n",
    "import seaborn as sns\n",
    "import matplotlib.pyplot as plt\n",
    "from datetime import datetime, timedelta\n"
   ]
  },
  {
   "cell_type": "code",
   "execution_count": null,
   "id": "eecb53a9",
   "metadata": {},
   "outputs": [],
   "source": [
    "root_path = './dataset/'"
   ]
  },
  {
   "cell_type": "code",
   "execution_count": null,
   "id": "864a5edf",
   "metadata": {},
   "outputs": [],
   "source": [
    "comportamiento_df = pd.read_csv(f'{root_path}comportamiento_tarjetasvisa.csv', sep = ',')"
   ]
  },
  {
   "cell_type": "code",
   "execution_count": null,
   "id": "2ff6c858",
   "metadata": {},
   "outputs": [],
   "source": [
    "informacion_df = pd.read_csv(f'{root_path}informacion_adicional_tarjetas.csv', sep = ',')"
   ]
  },
  {
   "cell_type": "code",
   "execution_count": null,
   "id": "6b5a8368-530d-4652-b6e6-615e5b6b5125",
   "metadata": {},
   "outputs": [],
   "source": [
    "comportamiento_df['ID_CLIENTE'].value_counts().shape[0]"
   ]
  },
  {
   "cell_type": "markdown",
   "id": "63299a01",
   "metadata": {},
   "source": [
    "### Definición de mal pagador"
   ]
  },
  {
   "cell_type": "code",
   "execution_count": null,
   "id": "e49b8425-2711-447c-b333-276545a525de",
   "metadata": {},
   "outputs": [],
   "source": [
    "comportamiento_df.drop_duplicates()\n",
    "comportamiento_df"
   ]
  },
  {
   "cell_type": "code",
   "execution_count": null,
   "id": "3aa47776-d858-47f2-bac0-b003cb826bdb",
   "metadata": {},
   "outputs": [],
   "source": [
    "comportamiento_df.isnull().sum()"
   ]
  },
  {
   "cell_type": "markdown",
   "id": "3c597b7e",
   "metadata": {},
   "source": [
    "##### 20% de las observaciones son nulas en columna DIAS_VENCIDOS"
   ]
  },
  {
   "cell_type": "code",
   "execution_count": null,
   "id": "ed360e2c-a301-4c6f-9595-60c994541c5d",
   "metadata": {},
   "outputs": [],
   "source": [
    "grupo_df = comportamiento_df.groupby([\"ID_CLIENTE\",\"MESES\"]).max()\n",
    "grupo_df"
   ]
  },
  {
   "cell_type": "code",
   "execution_count": null,
   "id": "da7f0cf5-b28a-42a4-9af3-ac34dd1ff629",
   "metadata": {},
   "outputs": [],
   "source": [
    "filtro_nulos = comportamiento_df.groupby('ID_CLIENTE').filter(lambda x:x['DIAS_VENCIDOS'].isnull().any())\n",
    "filtro_nulos['ID_CLIENTE'].value_counts().shape[0]"
   ]
  },
  {
   "cell_type": "code",
   "execution_count": null,
   "id": "294476bd-ed38-405d-a74e-808a02530291",
   "metadata": {},
   "outputs": [],
   "source": [
    "comportamiento_df['ID_CLIENTE'].value_counts().shape[0]"
   ]
  },
  {
   "cell_type": "markdown",
   "id": "707e0ef1",
   "metadata": {},
   "source": [
    "##### De un total de 45,985 clientes con comportamiento del manejo de tarjeta, 25,005 clientes tienen al menos un campo nulo en dias vencidos."
   ]
  },
  {
   "cell_type": "markdown",
   "id": "20854767",
   "metadata": {},
   "source": [
    "##### Se consideran todas las observaciones para definir el tipo de pagador toda vez que podemos asegurar un mal comportamiento con información cierta."
   ]
  },
  {
   "cell_type": "markdown",
   "id": "8315f317",
   "metadata": {},
   "source": [
    "##### Score de comportamiento:\n",
    "Mayor que 25 y menor igual que 30, se puntúa el comportamiento con 0.25.\n",
    "Mayor que 30, se puntúa con 1."
   ]
  },
  {
   "cell_type": "code",
   "execution_count": null,
   "id": "e3d4f46d-d99d-4973-b901-79522d013a54",
   "metadata": {},
   "outputs": [],
   "source": [
    "# funcion para score comportamiento\n",
    "def score_comportamiento(dias_vencidos):\n",
    "    if dias_vencidos > 25 and dias_vencidos <= 30:\n",
    "        return 0.25\n",
    "    elif dias_vencidos > 30:\n",
    "        return 1\n",
    "    else:\n",
    "        return 0"
   ]
  },
  {
   "cell_type": "code",
   "execution_count": null,
   "id": "6e5f4291-1bd9-45ee-b733-1dfc4510d1a8",
   "metadata": {},
   "outputs": [],
   "source": [
    "comportamiento_df['SCORE'] = comportamiento_df['DIAS_VENCIDOS'].apply(score_comportamiento)\n",
    "comportamiento_df['MESES_ANTIGUEDAD'] = (comportamiento_df.groupby('ID_CLIENTE')['MESES'].transform('min')) * (-1)\n",
    "comportamiento_df"
   ]
  },
  {
   "cell_type": "code",
   "execution_count": null,
   "id": "83c4b447-b774-43aa-920d-0eea63e3f41e",
   "metadata": {},
   "outputs": [],
   "source": [
    "calificacion_df = comportamiento_df[[\"ID_CLIENTE\",\"MESES_ANTIGUEDAD\",\"SCORE\"]].groupby([\"ID_CLIENTE\",\"MESES_ANTIGUEDAD\"]).sum().reset_index()\n",
    "calificacion_df"
   ]
  },
  {
   "cell_type": "code",
   "execution_count": null,
   "id": "4f56445a-3a97-42cb-8c0b-1d8df08c33ee",
   "metadata": {},
   "outputs": [],
   "source": [
    "# definir etiqueta de mal pagador\n",
    "def tipo_cliente(meses_antiguedad, score_total):\n",
    "    if meses_antiguedad <= 6 and score_total > 0:\n",
    "        return 'mal pagador'\n",
    "    elif meses_antiguedad > 6 and meses_antiguedad <= 12 and score_total > 0.5:\n",
    "        return 'mal pagador'\n",
    "    elif meses_antiguedad > 12 and meses_antiguedad <= 24 and score_total >= 1.5:\n",
    "        return 'mal pagador'\n",
    "    elif meses_antiguedad > 24 and meses_antiguedad <= 36 and score_total >= 2.5:\n",
    "        return 'mal pagador'\n",
    "    elif meses_antiguedad > 36 and meses_antiguedad <= 48 and score_total >= 3.5:\n",
    "        return 'mal pagador'\n",
    "    elif meses_antiguedad > 48 and meses_antiguedad <= 60 and score_total >= 4.5:\n",
    "        return 'mal pagador'\n",
    "    elif meses_antiguedad > 60 and score_total >= 5.5:\n",
    "        return 'mal pagador'\n",
    "    else:\n",
    "        return 'buen pagador'"
   ]
  },
  {
   "cell_type": "code",
   "execution_count": null,
   "id": "81490e3c-6729-4687-a224-df738c5ccac8",
   "metadata": {},
   "outputs": [],
   "source": [
    "calificacion_df['TIPO_CLIENTE'] = calificacion_df.apply(lambda x: tipo_cliente(x['MESES_ANTIGUEDAD'], x['SCORE']), axis=1)\n",
    "calificacion_df['TIPO_CLIENTE'].value_counts(normalize=True)"
   ]
  },
  {
   "cell_type": "markdown",
   "id": "e7d7060e",
   "metadata": {},
   "source": [
    "### Join con información adicional del cliente"
   ]
  },
  {
   "cell_type": "code",
   "execution_count": null,
   "id": "33213174",
   "metadata": {},
   "outputs": [],
   "source": [
    "calificacion_df.isnull().sum()"
   ]
  },
  {
   "cell_type": "code",
   "execution_count": null,
   "id": "60b8394e",
   "metadata": {},
   "outputs": [],
   "source": [
    "calificacion_df.info()"
   ]
  },
  {
   "cell_type": "markdown",
   "id": "60ba407e",
   "metadata": {},
   "source": [
    "No se tiene valores nulos con el nuevo dataset con la definición de mal pagador"
   ]
  },
  {
   "cell_type": "code",
   "execution_count": null,
   "id": "66681925",
   "metadata": {},
   "outputs": [],
   "source": [
    "#Se crea un nuevo data con las dos columnas solicitadas CLIENTE_ID (ID_CLIENTE) y mal_pagador (TIPO_CLIENTE)\n",
    "definicion_df = calificacion_df[[\"ID_CLIENTE\", \"TIPO_CLIENTE\"]]\n",
    "definicion_df"
   ]
  },
  {
   "cell_type": "code",
   "execution_count": null,
   "id": "5ed38ae1",
   "metadata": {},
   "outputs": [],
   "source": [
    "#Análisis del dataset con la información de los clientes\n",
    "informacion_df.info()"
   ]
  },
  {
   "cell_type": "code",
   "execution_count": null,
   "id": "6d43b428",
   "metadata": {
    "scrolled": true
   },
   "outputs": [],
   "source": [
    "informacion_df.drop_duplicates()\n",
    "informacion_df"
   ]
  },
  {
   "cell_type": "code",
   "execution_count": null,
   "id": "f73ebe17",
   "metadata": {},
   "outputs": [],
   "source": [
    "informacion_df.isnull().sum()"
   ]
  },
  {
   "cell_type": "markdown",
   "id": "4ff70e47",
   "metadata": {},
   "source": [
    "##### El 31% de las observaciones para la información de las tarjetas es nula en la descripción de la profesión"
   ]
  },
  {
   "cell_type": "code",
   "execution_count": null,
   "id": "4f3a9765",
   "metadata": {},
   "outputs": [],
   "source": [
    "id_informacion_df = informacion_df[\"ID_CLIENTE\"].value_counts()\n",
    "id_informacion_df"
   ]
  },
  {
   "cell_type": "code",
   "execution_count": null,
   "id": "49439b87",
   "metadata": {},
   "outputs": [],
   "source": [
    "#Observando los valores repetidos\n",
    "repetido_informacion_df = id_informacion_df[id_informacion_df > 1].index\n",
    "repetido_informacion_df"
   ]
  },
  {
   "cell_type": "code",
   "execution_count": null,
   "id": "ac59c89f",
   "metadata": {},
   "outputs": [],
   "source": [
    "repetido_filtro_df = informacion_df[informacion_df['ID_CLIENTE'].isin(repetido_informacion_df)].sort_values(by=\"ID_CLIENTE\")\n",
    "repetido_filtro_df"
   ]
  },
  {
   "cell_type": "markdown",
   "id": "a996f20f",
   "metadata": {},
   "source": [
    "Se descartan los ids que tienen más de una información porque los valores cambiantes no siguen ningún patrón (MCAR)"
   ]
  },
  {
   "cell_type": "code",
   "execution_count": null,
   "id": "3f7e88a3",
   "metadata": {},
   "outputs": [],
   "source": [
    "#Obteniedo los id con información única\n",
    "filtered_informacion_df = id_informacion_df[id_informacion_df == 1].index\n",
    "filtered_informacion_df"
   ]
  },
  {
   "cell_type": "code",
   "execution_count": null,
   "id": "e49bdd09",
   "metadata": {},
   "outputs": [],
   "source": [
    "#Filtrando los ids únicos\n",
    "unicos_informacion_df = informacion_df[informacion_df['ID_CLIENTE'].isin(filtered_informacion_df)]\n",
    "unicos_informacion_df"
   ]
  },
  {
   "cell_type": "markdown",
   "id": "7322d300",
   "metadata": {},
   "source": [
    "94 registros se han descartado de la información de clientes"
   ]
  },
  {
   "cell_type": "code",
   "execution_count": null,
   "id": "4122fe45",
   "metadata": {},
   "outputs": [],
   "source": [
    "unificado_df = unicos_informacion_df.merge(definicion_df, how=\"left\", on=\"ID_CLIENTE\")\n",
    "unificado_df"
   ]
  },
  {
   "cell_type": "code",
   "execution_count": null,
   "id": "477f4195",
   "metadata": {},
   "outputs": [],
   "source": [
    "#Analizando la información unificada\n",
    "unificado_df.info()"
   ]
  },
  {
   "cell_type": "markdown",
   "id": "20c187a8",
   "metadata": {},
   "source": [
    "Hay 402006 registros lo que representa el 91 % de información nula porque los ids de clientes no estaban en la definición del tipo de cliente.\n",
    "Es un categoría necesaria para analizar el tipo de cliente se va a trabajar con clientes que si estén categorizados"
   ]
  },
  {
   "cell_type": "code",
   "execution_count": null,
   "id": "63b2971a",
   "metadata": {},
   "outputs": [],
   "source": [
    "unificado_df[unificado_df.duplicated() == True]"
   ]
  },
  {
   "cell_type": "markdown",
   "id": "e1459c66",
   "metadata": {},
   "source": [
    "No se tiene valores duplicados ya que desde el inicio se usó la función drop_duplicates para no trabajar con valores repetidos"
   ]
  },
  {
   "cell_type": "code",
   "execution_count": null,
   "id": "187b7822",
   "metadata": {},
   "outputs": [],
   "source": [
    "#Se conservan los registros que no tienen valores nulos para el tipo de cliente según la definición de mal pagador\n",
    "clientes_df = unificado_df[unificado_df[\"TIPO_CLIENTE\"].isnull() == False]\n",
    "clientes_df.info()"
   ]
  },
  {
   "cell_type": "code",
   "execution_count": null,
   "id": "e3576e58",
   "metadata": {},
   "outputs": [],
   "source": [
    "clientes_df[[\"TIPO_CLIENTE\", \"ID_CLIENTE\"]].groupby(\"TIPO_CLIENTE\").count()"
   ]
  },
  {
   "cell_type": "markdown",
   "id": "92f67c15",
   "metadata": {},
   "source": [
    "### Data quality"
   ]
  },
  {
   "cell_type": "markdown",
   "id": "a5aaeb51",
   "metadata": {},
   "source": [
    "El 31% de la información que se ha recolectado del cliente no ha indicado su profesión."
   ]
  },
  {
   "cell_type": "code",
   "execution_count": null,
   "id": "be2fde3e",
   "metadata": {},
   "outputs": [],
   "source": [
    "segun_genero_df = clientes_df[[\"GENERO\", \"PROFESION\", \"ID_CLIENTE\"]].groupby(\"GENERO\").count()\n",
    "segun_genero_df"
   ]
  },
  {
   "cell_type": "code",
   "execution_count": null,
   "id": "35732a99",
   "metadata": {},
   "outputs": [],
   "source": [
    "segun_genero_df[\"SIN PROFESION\"] = segun_genero_df[\"ID_CLIENTE\"] - segun_genero_df[\"PROFESION\"]\n",
    "segun_genero_df[\"% SIN PROFESION\"] = (segun_genero_df[\"SIN PROFESION\"] * 100)/segun_genero_df[\"ID_CLIENTE\"]\n",
    "segun_genero_df"
   ]
  },
  {
   "cell_type": "code",
   "execution_count": null,
   "id": "d32f2c66",
   "metadata": {},
   "outputs": [],
   "source": [
    "clientes_df.isnull().sum()/clientes_df.shape[0]\n"
   ]
  },
  {
   "cell_type": "markdown",
   "id": "20405120",
   "metadata": {},
   "source": [
    "El 36 % de mujeres no ha indicado que profesión tienen y el 21% de los hombres prefirieron no decir a que se dedican"
   ]
  },
  {
   "cell_type": "markdown",
   "id": "bd7cfe9d",
   "metadata": {},
   "source": [
    "### Feature transformation"
   ]
  },
  {
   "cell_type": "code",
   "execution_count": null,
   "id": "f5a12d8b",
   "metadata": {},
   "outputs": [],
   "source": [
    "clientes_df.describe()"
   ]
  },
  {
   "cell_type": "code",
   "execution_count": null,
   "id": "20f4dd96",
   "metadata": {},
   "outputs": [],
   "source": [
    "fecha_fijada = datetime(2024, 6, 29).date()\n",
    "clientes_df['FECHA_NACIMIENTO'] = clientes_df['DIAS_DESDE_NACIMIENTO'].apply(lambda x: fecha_fijada + timedelta(days=x))\n",
    "clientes_df['ANIO_NACIMIENTO'] = clientes_df['FECHA_NACIMIENTO'].apply(lambda x: x.year)\n",
    "clientes_df"
   ]
  },
  {
   "cell_type": "code",
   "execution_count": null,
   "id": "45f7b763-f894-4fd3-8fdd-24235e065824",
   "metadata": {},
   "outputs": [],
   "source": [
    "#funcion para etiqueta generacional\n",
    "def generacion(anio_nacimiento):\n",
    "    if anio_nacimiento >= 1997:\n",
    "        return 'Generación Z'\n",
    "    elif 1981 <= anio_nacimiento < 1997:\n",
    "        return 'Millennials'\n",
    "    elif 1965 <= anio_nacimiento < 1981:\n",
    "        return 'Generación X'\n",
    "    elif 1946 <= anio_nacimiento < 1965:\n",
    "        return 'Baby Boomers'\n",
    "    else:\n",
    "        return 'Generación Silenciosa'\n",
    "clientes_df['GENERACION'] = clientes_df['ANIO_NACIMIENTO'].apply(generacion)"
   ]
  },
  {
   "cell_type": "code",
   "execution_count": null,
   "id": "ecdb491d-c489-4a31-be98-d414674d855d",
   "metadata": {},
   "outputs": [],
   "source": [
    "clientes_df['GENERACION'].value_counts()"
   ]
  },
  {
   "cell_type": "code",
   "execution_count": null,
   "id": "2c16b9c8",
   "metadata": {},
   "outputs": [],
   "source": [
    "clientes_df.isnull().sum()/clientes_df.shape[0]\n"
   ]
  },
  {
   "cell_type": "markdown",
   "id": "6b92f162",
   "metadata": {},
   "source": [
    "### Análisis descriptivo"
   ]
  },
  {
   "cell_type": "code",
   "execution_count": null,
   "id": "ef39dbe4",
   "metadata": {},
   "outputs": [],
   "source": [
    "generacion_df = pd.crosstab(clientes_df['GENERACION'], clientes_df[\"TIPO_CLIENTE\"], normalize=\"index\")\n",
    "generacion_df"
   ]
  },
  {
   "cell_type": "code",
   "execution_count": null,
   "id": "5e24888d",
   "metadata": {},
   "outputs": [],
   "source": [
    "generacion_df.reindex([\"Generación Z\", \"Millennials\", \"Generación X\", \"Baby Boomers\"])"
   ]
  },
  {
   "cell_type": "markdown",
   "id": "9a8f4ddf",
   "metadata": {},
   "source": [
    "### Análisis correlacional "
   ]
  },
  {
   "cell_type": "code",
   "execution_count": null,
   "id": "c21ddd76",
   "metadata": {},
   "outputs": [],
   "source": [
    "clientes_df"
   ]
  },
  {
   "cell_type": "code",
   "execution_count": null,
   "id": "895578d6",
   "metadata": {},
   "outputs": [],
   "source": [
    "clientes_df.isnull().sum()/clientes_df.shape[0]\n"
   ]
  },
  {
   "cell_type": "code",
   "execution_count": null,
   "id": "d55f9d93",
   "metadata": {},
   "outputs": [],
   "source": [
    "clientes_df[\"TIPO_CLIENTE\"].value_counts()"
   ]
  },
  {
   "cell_type": "code",
   "execution_count": null,
   "id": "452f7512",
   "metadata": {},
   "outputs": [],
   "source": [
    "clientes_df.dtypes"
   ]
  },
  {
   "cell_type": "code",
   "execution_count": null,
   "id": "24f3e177",
   "metadata": {},
   "outputs": [],
   "source": [
    "## no aparece la columna TIPO_CLIENTE porque no es un valor numérico \n",
    "correlation_matrix=clientes_df.corr(numeric_only=True)\n",
    "correlation_matrix"
   ]
  },
  {
   "cell_type": "code",
   "execution_count": null,
   "id": "4e41cea7",
   "metadata": {},
   "outputs": [],
   "source": [
    "def conversion_tipo_cliente (tipo_cliente):\n",
    "    if tipo_cliente == \"buen pagador\": \n",
    "        return 1\n",
    "    else:\n",
    "        return 0"
   ]
  },
  {
   "cell_type": "code",
   "execution_count": null,
   "id": "a5e83f31",
   "metadata": {},
   "outputs": [],
   "source": [
    "clientes_df['NUM_TIPO_CLIENTE'] = clientes_df.apply(lambda x: conversion_tipo_cliente(x[\"TIPO_CLIENTE\"]), axis=1)\n",
    "correlation_matrix = clientes_df.corr(numeric_only=True)\n"
   ]
  },
  {
   "cell_type": "code",
   "execution_count": null,
   "id": "7b562bdb",
   "metadata": {},
   "outputs": [],
   "source": [
    "#df_encoded = pd.get_dummies(clientes_df)\n",
    "#correlation_matrix = df_encoded.corr()\n",
    "#plt.figure(figsize=(10, 8))\n",
    "#sns.heatmap(correlation_matrix, annot=True, cmap='coolwarm', fmt='.2f')\n"
   ]
  },
  {
   "cell_type": "code",
   "execution_count": null,
   "id": "4ec33f6a",
   "metadata": {},
   "outputs": [],
   "source": [
    "## con figsize ajustamos el tamano de los cuadros de la matriz\n",
    "plt.figure(figsize=(12, 10))\n",
    "sns.heatmap(correlation_matrix, annot=True, cmap=\"coolwarm\", center=0, fmt=\".2f\")\n",
    "plt.title('Matriz de Correlación')\n",
    "plt.show()"
   ]
  },
  {
   "cell_type": "code",
   "execution_count": null,
   "id": "e356d4df",
   "metadata": {},
   "outputs": [],
   "source": [
    "clientes_df[\"INGRESO_ANUAL\"].describe().astype(int)"
   ]
  },
  {
   "cell_type": "code",
   "execution_count": null,
   "id": "ac8a83fc",
   "metadata": {},
   "outputs": [],
   "source": [
    "clientes_df[\"NIVEL_EDUCACION\"].value_counts()"
   ]
  },
  {
   "cell_type": "code",
   "execution_count": null,
   "id": "92eb2f3f",
   "metadata": {},
   "outputs": [],
   "source": [
    "## correlacion nivel de educacion vs tipo cliente\n",
    "educacion_df = pd.crosstab(clientes_df['NIVEL_EDUCACION'], clientes_df[\"TIPO_CLIENTE\"], normalize=\"index\")\n",
    "educacion_df"
   ]
  },
  {
   "cell_type": "code",
   "execution_count": null,
   "id": "a29f5746",
   "metadata": {},
   "outputs": [],
   "source": [
    "educacion_df.reindex([\"Academic degree\", \"Higher education\", \"Secondary / secondary special\", \"Lower secondary\", \"Incomplete higher\"])\n"
   ]
  },
  {
   "cell_type": "code",
   "execution_count": null,
   "id": "ca125d1c",
   "metadata": {},
   "outputs": [],
   "source": [
    "educacion_df.plot(kind='bar', stacked=True)\n",
    "plt.xlabel('Niveles de Educación')\n",
    "plt.ylabel('Proporción de Tipos de Cliente')\n",
    "plt.title('Distribución de Tipos de Cliente por Niveles de Educación')\n",
    "plt.show()"
   ]
  },
  {
   "cell_type": "code",
   "execution_count": null,
   "id": "3ec0980b",
   "metadata": {},
   "outputs": [],
   "source": [
    "clientes_df[\"INGRESO_ANUAL\"].max()"
   ]
  },
  {
   "cell_type": "code",
   "execution_count": null,
   "id": "c5dbc6d7",
   "metadata": {},
   "outputs": [],
   "source": [
    "clientes_df[\"INGRESO_ANUAL\"].min()"
   ]
  },
  {
   "cell_type": "code",
   "execution_count": null,
   "id": "11052a7f",
   "metadata": {},
   "outputs": [],
   "source": [
    "#se tendran tres rangos de ingresos \n",
    "resta_ingresos_df = (clientes_df[\"INGRESO_ANUAL\"].max())-(clientes_df[\"INGRESO_ANUAL\"].min())\n",
    "resta_ingresos_df/3"
   ]
  },
  {
   "cell_type": "code",
   "execution_count": null,
   "id": "cc6446e7",
   "metadata": {},
   "outputs": [],
   "source": [
    "def rangos_ingresos(ingresos_anuales):\n",
    "    if ingresos_anuales <= (27000 + 516000):\n",
    "        return \"Ingresos bajos\"\n",
    "    elif ingresos_anuales >= (1575000 - 516000):\n",
    "        return \"Ingresos altos\"\n",
    "    else:\n",
    "        return \"Ingresos medios\"\n",
    "    \n",
    "clientes_df[\"NIVEL_INGRESOS\"] = clientes_df[\"INGRESO_ANUAL\"].apply(rangos_ingresos)\n"
   ]
  },
  {
   "cell_type": "code",
   "execution_count": null,
   "id": "95f60d4d",
   "metadata": {},
   "outputs": [],
   "source": [
    "clientes_df"
   ]
  },
  {
   "cell_type": "code",
   "execution_count": null,
   "id": "f7606eb8",
   "metadata": {},
   "outputs": [],
   "source": [
    "clientes_df[\"NIVEL_INGRESOS\"].value_counts()"
   ]
  },
  {
   "cell_type": "code",
   "execution_count": null,
   "id": "fc8625ef",
   "metadata": {},
   "outputs": [],
   "source": [
    "ingresos_df = pd.crosstab(clientes_df[\"NIVEL_INGRESOS\"], clientes_df[\"TIPO_CLIENTE\"], normalize=\"index\")\n",
    "ingresos_df"
   ]
  },
  {
   "cell_type": "code",
   "execution_count": null,
   "id": "887fffd7",
   "metadata": {},
   "outputs": [],
   "source": [
    "ingresos_df.reindex([\"Ingresos bajos\", \"Ingresos medios\", \"Ingresos altos\"])"
   ]
  },
  {
   "cell_type": "code",
   "execution_count": null,
   "id": "5fc2d9bf",
   "metadata": {},
   "outputs": [],
   "source": [
    "ingresos_df.plot(kind='bar', stacked=True)\n",
    "plt.xlabel('Niveles de Ingresos')\n",
    "plt.ylabel('Proporción de Tipos de Cliente')\n",
    "plt.title('Distribución de Tipos de Cliente por Niveles de Ingresos')\n",
    "plt.show()\n"
   ]
  },
  {
   "cell_type": "code",
   "execution_count": null,
   "id": "cd6f044f",
   "metadata": {},
   "outputs": [],
   "source": [
    "union_df = pd.crosstab([clientes_df[\"NIVEL_INGRESOS\"], clientes_df[\"NIVEL_EDUCACION\"]] , clientes_df[\"TIPO_CLIENTE\"], normalize=\"index\")\n",
    "union_df\n",
    "\n"
   ]
  },
  {
   "cell_type": "code",
   "execution_count": null,
   "id": "03ee007b",
   "metadata": {},
   "outputs": [],
   "source": [
    "union_df.plot(kind='bar', stacked=True)\n",
    "plt.xlabel('Niveles de Ingresos')\n",
    "plt.ylabel('Proporción de Tipos de Cliente')\n",
    "plt.title('Distribución de Tipos de Cliente por Niveles de Ingresos')\n",
    "plt.show()"
   ]
  }
 ],
 "metadata": {
  "kernelspec": {
   "display_name": "Python 3 (ipykernel)",
   "language": "python",
   "name": "python3"
  },
  "language_info": {
   "codemirror_mode": {
    "name": "ipython",
    "version": 3
   },
   "file_extension": ".py",
   "mimetype": "text/x-python",
   "name": "python",
   "nbconvert_exporter": "python",
   "pygments_lexer": "ipython3",
   "version": "3.12.4"
  }
 },
 "nbformat": 4,
 "nbformat_minor": 5
}
